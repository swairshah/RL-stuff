{
 "cells": [
  {
   "cell_type": "code",
   "execution_count": 34,
   "metadata": {},
   "outputs": [],
   "source": [
    "import gym\n",
    "from envs.gridworld import GridworldEnv\n",
    "import numpy as np\n",
    "from collections import defaultdict\n",
    "from utils import show_grid\n",
    "%matplotlib inline"
   ]
  },
  {
   "cell_type": "code",
   "execution_count": 3,
   "metadata": {},
   "outputs": [],
   "source": [
    "env = GridworldEnv()"
   ]
  },
  {
   "cell_type": "markdown",
   "metadata": {},
   "source": [
    "When we have the complete model of the MDP, we can use DP to find an optimal policy. "
   ]
  },
  {
   "cell_type": "markdown",
   "metadata": {},
   "source": [
    "## Policy Evaluation \n",
    "\n",
    "Given a random policy to navigate the gridworld we can evaluate this policy by the following algorithm:"
   ]
  },
  {
   "cell_type": "code",
   "execution_count": 4,
   "metadata": {},
   "outputs": [],
   "source": [
    "def policy_evaluation(env, policy, theta=0.0001, discount=0.99):\n",
    "    V = np.zeros(env.nS)\n",
    "    while True:\n",
    "        delta = 0\n",
    "        for s in range(env.nS):\n",
    "            v = 0\n",
    "            for a, p_a in enumerate(policy[s]):\n",
    "                for p, s_, r, done in env.P[s][a]:\n",
    "                    v += p_a * p * (r + discount * V[s_])\n",
    "\n",
    "            delta = max(delta, np.abs(v - V[s]))\n",
    "            V[s] = v\n",
    "\n",
    "        if delta < theta:\n",
    "            break\n",
    "    return V"
   ]
  },
  {
   "cell_type": "markdown",
   "metadata": {},
   "source": [
    "First we generate a random policy:"
   ]
  },
  {
   "cell_type": "code",
   "execution_count": 6,
   "metadata": {},
   "outputs": [],
   "source": [
    "random_policy = np.ones((env.nS, env.nA)) / env.nA"
   ]
  },
  {
   "cell_type": "code",
   "execution_count": 7,
   "metadata": {},
   "outputs": [
    {
     "data": {
      "text/plain": [
       "<matplotlib.axes._subplots.AxesSubplot at 0x128090750>"
      ]
     },
     "execution_count": 7,
     "metadata": {},
     "output_type": "execute_result"
    },
    {
     "data": {
      "image/png": "[encoded data removed]",
      "text/plain": [
       "<Figure size 432x288 with 1 Axes>"
      ]
     },
     "metadata": {
      "needs_background": "light"
     },
     "output_type": "display_data"
    }
   ],
   "source": [
    "V = policy_evaluation(env, random_policy)\n",
    "show_grid(V.reshape(4,4))"
   ]
  },
  {
   "cell_type": "markdown",
   "metadata": {},
   "source": [
    "## Moving on to Monte Carlo\n",
    "\n",
    "By the model of the environment we mean `env.P`. So for each state, for each action we know the next state, transition probability, and the reward (and done flag, meaning if its the goal state). If we do not have this model then the DP methods do not work for finding new policies. Before moving onto finding a good policy in model-free setting, let us see how to evalute state values using motecarlo method. \n",
    "\n",
    "We will still operate in the same gridworld environment but ignore that we have the model available. Instead of relying on `env.P` we will take randomly start off at a state `s` and take random action `a`. Thus generate trajectories. In each trajectory we find the first occurance of a state `s`, from that step onwards compute the total reward, and record this reward for the state `s`. \n",
    "\n",
    "In the end the value estimate of a given state is the total reward for that state divided by the total first-visits to that state. "
   ]
  },
  {
   "cell_type": "code",
   "execution_count": 41,
   "metadata": {},
   "outputs": [],
   "source": [
    "def pick_action(env):\n",
    "    return np.random.choice(env.nA)\n",
    "\n",
    "def MC_value_estimate(env, n_episodes, discount=0.99):\n",
    "    val_estimates = defaultdict(float)\n",
    "    returns_sum = defaultdict(float)\n",
    "    returns_count = defaultdict(float)\n",
    "    \n",
    "    for ep in range(n_episodes):\n",
    "        trajectory = []\n",
    "        s = env.reset()\n",
    "        done = False\n",
    "        while not done:\n",
    "            s = env.s\n",
    "            a = pick_action(env)\n",
    "            s_, r, done, _ = env.step(a)\n",
    "            trajectory.append((s,a,r))\n",
    "\n",
    "        visited_states = set([x[0] for x in trajectory])\n",
    "        for s in visited_states:\n",
    "            first_visit_idx = next(i for i,x in enumerate(trajectory) if x[0] == s)\n",
    "            G = sum(x[2]*(discount**i) for i,x in enumerate(trajectory[first_visit_idx:]))\n",
    "            returns_sum[s] += G\n",
    "            returns_count[s] += 1.0\n",
    "            val_estimates[s] = returns_sum[s] /returns_count[s]\n",
    "            \n",
    "    return np.array([val_estimates[i] for i in range(env.nS)])"
   ]
  },
  {
   "cell_type": "code",
   "execution_count": 43,
   "metadata": {},
   "outputs": [
    {
     "data": {
      "text/plain": [
       "<matplotlib.axes._subplots.AxesSubplot at 0x12b64cc10>"
      ]
     },
     "execution_count": 43,
     "metadata": {},
     "output_type": "execute_result"
    },
    {
     "data": {
      "image/png": "[encoded data removed]",
      "text/plain": [
       "<Figure size 432x288 with 1 Axes>"
      ]
     },
     "metadata": {
      "needs_background": "light"
     },
     "output_type": "display_data"
    }
   ],
   "source": [
    "V = MC_value_estimate(env, n_episodes=10000)\n",
    "show_grid(V.reshape(4,4))"
   ]
  },
  {
   "cell_type": "markdown",
   "metadata": {},
   "source": [
    "We can see that the state values are approximately the same as the ones we computed following a random policy in policy evaluation. "
   ]
  },
  {
   "cell_type": "markdown",
   "metadata": {},
   "source": [
    "## Policy Improvement\n",
    "\n",
    "Coming back to the model-equipped scenario, we want to improve on that random policy we just evaluated. Once we evaluate a policy its easy to improve it. For each state we look for the action which gives us the highest return (this is reward plus gamma times value of next state i.e. $ p(s',r | s,\\pi(s)) \\cdot [r + \\gamma V(s')]$ ) for each  "
   ]
  },
  {
   "cell_type": "code",
   "execution_count": 28,
   "metadata": {},
   "outputs": [],
   "source": [
    "\n",
    "def policy_iteration(env, policy, discount=0.99):\n",
    "    \n",
    "    while True:\n",
    "        V = policy_evaluation(env, policy)\n",
    "        \n",
    "        policy_stable = True\n",
    "        for s in range(env.nS):\n",
    "            old_a = np.argmax(policy[s])\n",
    "        \n",
    "            action_values = np.zeros(env.nA)\n",
    "            for a in range(env.nA):\n",
    "                for p, s_, r, done in env.P[s][a]:\n",
    "                    action_values[a] += p * (r + discount * V[s_])\n",
    "            \n",
    "            new_a = np.argmax(action_values)\n",
    "            \n",
    "            policy[s] = np.eye(env.nA)[new_a]\n",
    "\n",
    "            if old_a != new_a:\n",
    "                policy_stable = False\n",
    "            \n",
    "        if policy_stable:\n",
    "            return V, policy"
   ]
  },
  {
   "cell_type": "code",
   "execution_count": 29,
   "metadata": {},
   "outputs": [],
   "source": [
    "V, P = policy_iteration(env, random_policy)"
   ]
  }
 ],
 "metadata": {
  "kernelspec": {
   "display_name": "Python 3",
   "language": "python",
   "name": "python3"
  },
  "language_info": {
   "codemirror_mode": {
    "name": "ipython",
    "version": 3
   },
   "file_extension": ".py",
   "mimetype": "text/x-python",
   "name": "python",
   "nbconvert_exporter": "python",
   "pygments_lexer": "ipython3",
   "version": "3.7.4"
  }
 },
 "nbformat": 4,
 "nbformat_minor": 4
}
